{
 "cells": [
  {
   "cell_type": "code",
   "execution_count": null,
   "metadata": {},
   "outputs": [],
   "source": [
    "# !pip install PyAutoGUI"
   ]
  },
  {
   "cell_type": "code",
   "execution_count": 1,
   "metadata": {},
   "outputs": [],
   "source": [
    "# https://pypi.org/project/PyAutoGUI/\n",
    "import pyautogui\n",
    "import tkinter as tk\n",
    "from tkinter import filedialog as fd "
   ]
  },
  {
   "cell_type": "code",
   "execution_count": 2,
   "metadata": {},
   "outputs": [],
   "source": [
    "for i in range(500):\n",
    "    if i%100==0:\n",
    "        my_screenshot = pyautogui.screenshot()\n",
    "        save_path = r\"C:\\Users\\mg\\Desktop\\Screenshot using python\"+chr(92)\n",
    "        my_screenshot.save(save_path+str(i)+'_my shot.png')"
   ]
  },
  {
   "cell_type": "code",
   "execution_count": 2,
   "metadata": {},
   "outputs": [
    {
     "name": "stdout",
     "output_type": "stream",
     "text": [
      "C:/Users/mg/Desktop/Screenshot using python/custon path sceen shot\n"
     ]
    }
   ],
   "source": [
    "root = tk.Tk()\n",
    "root.title('AI Sciences Screenshot APP')\n",
    "canvas1 = tk.Canvas(root, width=300, height=300)\n",
    "\n",
    "canvas1.pack()\n",
    "\n",
    "def get_save_path():\n",
    "    save_path = fd.asksaveasfilename()\n",
    "    print(save_path)\n",
    "    return save_path\n",
    "\n",
    "def takeScreenshot():\n",
    "    my_screenshot = pyautogui.screenshot()\n",
    "    my_screenshot.save(get_save_path()+'_my shot.png')\n",
    "    \n",
    "\n",
    "my_button = tk.Button(text=\"Take ScreenShot\", command= takeScreenshot, font=10)\n",
    "canvas1.create_window(150,150, window=my_button)\n",
    "root.mainloop()"
   ]
  },
  {
   "cell_type": "code",
   "execution_count": null,
   "metadata": {},
   "outputs": [],
   "source": []
  },
  {
   "cell_type": "code",
   "execution_count": null,
   "metadata": {},
   "outputs": [],
   "source": []
  },
  {
   "cell_type": "code",
   "execution_count": null,
   "metadata": {},
   "outputs": [],
   "source": []
  }
 ],
 "metadata": {
  "kernelspec": {
   "display_name": "Python 3",
   "language": "python",
   "name": "python3"
  },
  "language_info": {
   "codemirror_mode": {
    "name": "ipython",
    "version": 3
   },
   "file_extension": ".py",
   "mimetype": "text/x-python",
   "name": "python",
   "nbconvert_exporter": "python",
   "pygments_lexer": "ipython3",
   "version": "3.8.3"
  }
 },
 "nbformat": 4,
 "nbformat_minor": 4
}
